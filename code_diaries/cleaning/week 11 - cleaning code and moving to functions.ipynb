{
 "cells": [
  {
   "cell_type": "markdown",
   "id": "e3e6ed5d",
   "metadata": {},
   "source": [
    "### Week 11 - changing pivot table to function and adding a heat map"
   ]
  },
  {
   "cell_type": "markdown",
   "id": "32257e6f",
   "metadata": {},
   "source": [
    "I'm mostly working in the final notebook file as I'm cleaning and compiling. I did discover this week that pivot tables can easily be converted to heatmaps which I think would be very effective for my data set. I have been working to drop values lower than 10 from the dataset to avoid cross tab tables with insiginifcant numbers. <br>\n",
    "Working functions below transferred as back up from final processing, datasets won't run here - input df is 65 0000 rows long"
   ]
  },
  {
   "cell_type": "code",
   "execution_count": 2,
   "id": "b5a0baf0",
   "metadata": {},
   "outputs": [
    {
     "ename": "NameError",
     "evalue": "name 'swecalc_df' is not defined",
     "output_type": "error",
     "traceback": [
      "\u001b[1;31m---------------------------------------------------------------------------\u001b[0m",
      "\u001b[1;31mNameError\u001b[0m                                 Traceback (most recent call last)",
      "Input \u001b[1;32mIn [2]\u001b[0m, in \u001b[0;36m<cell line: 2>\u001b[1;34m()\u001b[0m\n\u001b[0;32m      1\u001b[0m \u001b[38;5;66;03m# Group data frame and drop rows if not meeting minimum threshold\u001b[39;00m\n\u001b[1;32m----> 2\u001b[0m df \u001b[38;5;241m=\u001b[39m \u001b[43mswecalc_df\u001b[49m\n\u001b[0;32m      3\u001b[0m groupby \u001b[38;5;241m=\u001b[39m df\u001b[38;5;241m.\u001b[39mgroupby([\u001b[38;5;124m\"\u001b[39m\u001b[38;5;124mzbin\u001b[39m\u001b[38;5;124m\"\u001b[39m, \u001b[38;5;124m\"\u001b[39m\u001b[38;5;124mAspect\u001b[39m\u001b[38;5;124m\"\u001b[39m],as_index\u001b[38;5;241m=\u001b[39m\u001b[38;5;28;01mFalse\u001b[39;00m)\u001b[38;5;241m.\u001b[39magg({\u001b[38;5;124m\"\u001b[39m\u001b[38;5;124mwater_vol\u001b[39m\u001b[38;5;124m\"\u001b[39m:[\u001b[38;5;124m\"\u001b[39m\u001b[38;5;124mcount\u001b[39m\u001b[38;5;124m\"\u001b[39m,\u001b[38;5;124m\"\u001b[39m\u001b[38;5;124msum\u001b[39m\u001b[38;5;124m\"\u001b[39m]})\n\u001b[0;32m      4\u001b[0m \u001b[38;5;66;03m# drop rows which have a count of less than 10\u001b[39;00m\n",
      "\u001b[1;31mNameError\u001b[0m: name 'swecalc_df' is not defined"
     ]
    }
   ],
   "source": [
    "# Group data frame and drop rows if not meeting minimum threshold\n",
    "df = swecalc_df\n",
    "groupby = df.groupby([\"zbin\", \"Aspect\"],as_index=False).agg({\"water_vol\":[\"count\",\"sum\"]})\n",
    "# drop rows which have a count of less than 10\n",
    "groupby = groupby[groupby[\"water_vol\"][\"count\"]>10]\n",
    "# change column names\n",
    "groupby.columns = [\"zbin\", \"Aspect\", \"Count\", \"water_vol\"]\n",
    "\n",
    "\n",
    "summary = pd.crosstab(\n",
    "      index=groupby['zbin'], columns=groupby['Aspect'],aggfunc=\"sum\",\n",
    "     values=groupby[\"water_vol\"],margins=True,margins_name=\"Total\").fillna(0).round(0)\n",
    "all_aspects = [\"North\", \"Northeast\", \"East\", \"Southeast\", \"South\", \"Southwest\", \"West\", \"Northwest\"]\n",
    "\n",
    "hmap = pd.crosstab(\n",
    "      index=groupby['zbin'], columns=groupby['Aspect'],aggfunc=\"sum\",\n",
    "     values=groupby[\"water_vol\"],margins=False).fillna(0).round(0)\n",
    "\n",
    "hmap = hmap[all_aspects]\n",
    "plt.figure(figsize=(16,5))\n",
    "#fmt value changes the formatting of the final numbers\n",
    "sns.heatmap(hmap,\n",
    "            cmap=\"YlGnBu\", annot=True, cbar=True,fmt='g')\n",
    "plt.title()\n",
    "plt.show()"
   ]
  },
  {
   "cell_type": "markdown",
   "id": "5b8cf77f",
   "metadata": {},
   "source": [
    "Old function below - this one is hard to remove small values, as first need to group by both Aspect and elevation to drop the values which are less than 10"
   ]
  },
  {
   "cell_type": "code",
   "execution_count": 3,
   "id": "6da7a6d1",
   "metadata": {},
   "outputs": [],
   "source": [
    "def pivot_table(df,value_col, agg_func,basin_name,wshed,phase):\n",
    "    print(\"processing.. pivot table\")\n",
    "    #drop values in data frame where the SWE is less than 100, or equals flat aspect\n",
    "    #df = df[df[\"Aspect\"]!=\"Flat\"]\n",
    "    sum = pd.crosstab(\n",
    "      index=df['zbin'], columns=df['Aspect'],\n",
    "      values=df[value_col], aggfunc=agg_func, margins=True,margins_name=\"Total\").fillna(0).round(0)\n",
    "    #sum = sum[sum[\"zbin\"][\"Aspect\"]>100]\n",
    "    #sum[(sum[\"Aspect\"]>100).any(axis=1)]\n",
    "    #loop to order the aspects and drop if the value does not exist\n",
    "    all_aspects = [\"North\", \"Northeast\", \"East\", \"Southeast\", \"South\", \"Southwest\", \"West\", \"Northwest\"]\n",
    "    #rearrange order of aspect columns for consistent pivot table\n",
    "    sum = sum[all_aspects]\n",
    "    sns.heatmap(sum,\n",
    "            cmap=\"YlGnBu\", annot=True, cbar=False)\n",
    "    display(sum)\n",
    "    sum.to_csv(\"outputs/pivot_{}_{}_{}_{}.csv\".format(wshed,basin_name,phase,value_col),index=False)\n",
    "    return sum"
   ]
  },
  {
   "cell_type": "markdown",
   "id": "e5ade1ff",
   "metadata": {},
   "source": [
    "## Elevation graph including all sub-basins to function"
   ]
  },
  {
   "cell_type": "markdown",
   "id": "097d216a",
   "metadata": {},
   "source": [
    "back up of working code here, moving to function on the main aco clean up notebook"
   ]
  },
  {
   "cell_type": "code",
   "execution_count": 1,
   "id": "46a44ef1",
   "metadata": {},
   "outputs": [
    {
     "ename": "NameError",
     "evalue": "name 'zbin_append' is not defined",
     "output_type": "error",
     "traceback": [
      "\u001b[1;31m---------------------------------------------------------------------------\u001b[0m",
      "\u001b[1;31mNameError\u001b[0m                                 Traceback (most recent call last)",
      "Input \u001b[1;32mIn [1]\u001b[0m, in \u001b[0;36m<cell line: 3>\u001b[1;34m()\u001b[0m\n\u001b[0;32m      1\u001b[0m \u001b[38;5;28;01mimport\u001b[39;00m \u001b[38;5;21;01mmatplotlib\u001b[39;00m\u001b[38;5;21;01m.\u001b[39;00m\u001b[38;5;21;01mticker\u001b[39;00m \u001b[38;5;28;01mas\u001b[39;00m \u001b[38;5;21;01mticker\u001b[39;00m\n\u001b[0;32m      2\u001b[0m \u001b[38;5;66;03m#graph for SWE by elevation \u001b[39;00m\n\u001b[1;32m----> 3\u001b[0m df \u001b[38;5;241m=\u001b[39m \u001b[43mzbin_append\u001b[49m\n\u001b[0;32m      4\u001b[0m df \u001b[38;5;241m=\u001b[39m df\u001b[38;5;241m.\u001b[39mreset_index()\n\u001b[0;32m      5\u001b[0m display(df)\n",
      "\u001b[1;31mNameError\u001b[0m: name 'zbin_append' is not defined"
     ]
    }
   ],
   "source": [
    "import matplotlib.ticker as ticker\n",
    "#graph for SWE by elevation \n",
    "df = zbin_append\n",
    "df = df.reset_index()\n",
    "display(df)\n",
    "\n",
    "#set colour and style for grpah\n",
    "sns.set_style(\"darkgrid\")\n",
    "palette = sns.color_palette(\"YlGnBu\", 10)\n",
    "\n",
    "#create figure\n",
    "fig, ax = plt.subplots(figsize=(10,6))\n",
    "fig.set_tight_layout(True)\n",
    "\n",
    "#loop through basins, generate line based on its water volume\n",
    "index = 4\n",
    "for i in df[\"Basin\"].unique():\n",
    "    print(i)\n",
    "    line = df[df[\"Basin\"]== i]\n",
    "    line_plot = ax.plot(line[\"zbin\"], line[\"water_vol\"], \"-o\", color=palette[index],label= i)\n",
    "    ax.fill_between(line[\"zbin\"], line[\"lower_wv\"],line[\"upper_wv\"], alpha=0.2, color=palette[index])\n",
    "    plt.legend()\n",
    "    index = index + 2 #increase colour index for next line by 2\n",
    "\n",
    "# set axis labels\n",
    "ax.set_xlabel('Elevation [m, ellipsoid]')\n",
    "ax.set_ylabel(\"Water Storage [$m^{3}$]\")\n",
    "\n",
    "#set x tick spacing\n",
    "tick_spacing = 100\n",
    "ax.xaxis.set_major_locator(ticker.MultipleLocator(tick_spacing))\n",
    "\n",
    "#set the axis range of the y\n",
    "max_y = df[\"water_vol\"].max().round(decimals=-6)+300000\n",
    "yticks = (np.arange(0,max_y, (max_y/10).round(-5))).astype(int)\n",
    "plt.yticks(yticks)\n",
    "\n",
    "#generate the formatted y tick labels\n",
    "y_labels = []\n",
    "for i in yticks:\n",
    "    value = format (i, ',d')\n",
    "    y_labels.append(value)\n",
    "display(y_labels)\n",
    "ax.set_yticklabels(y_labels)      \n",
    "ax.set_title(\"Total Water Storage: {}, Phase {}\".format(wshed, phase[2:]), fontsize = 15)\n",
    "       \n",
    "\n",
    "    \n",
    "plt.show()"
   ]
  },
  {
   "cell_type": "markdown",
   "id": "221efe0d",
   "metadata": {},
   "source": [
    "## Plotly polar graph to function\n",
    "This function is for spitting out graph for the individual phase"
   ]
  },
  {
   "cell_type": "code",
   "execution_count": 2,
   "id": "251f8966",
   "metadata": {},
   "outputs": [
    {
     "ename": "NameError",
     "evalue": "name 'sns' is not defined",
     "output_type": "error",
     "traceback": [
      "\u001b[1;31m---------------------------------------------------------------------------\u001b[0m",
      "\u001b[1;31mNameError\u001b[0m                                 Traceback (most recent call last)",
      "Input \u001b[1;32mIn [2]\u001b[0m, in \u001b[0;36m<cell line: 3>\u001b[1;34m()\u001b[0m\n\u001b[0;32m      1\u001b[0m \u001b[38;5;66;03m#polar plot by aspect\u001b[39;00m\n\u001b[0;32m      2\u001b[0m \u001b[38;5;66;03m#convert colors for plotly formatting\u001b[39;00m\n\u001b[1;32m----> 3\u001b[0m pal \u001b[38;5;241m=\u001b[39m \u001b[43msns\u001b[49m\u001b[38;5;241m.\u001b[39mcolor_palette(\u001b[38;5;124m\"\u001b[39m\u001b[38;5;124mviridis\u001b[39m\u001b[38;5;124m\"\u001b[39m)\n\u001b[0;32m      4\u001b[0m clist \u001b[38;5;241m=\u001b[39m pal\u001b[38;5;241m.\u001b[39mas_hex()\n\u001b[0;32m      6\u001b[0m \u001b[38;5;66;03m#hex to rgb testing\u001b[39;00m\n",
      "\u001b[1;31mNameError\u001b[0m: name 'sns' is not defined"
     ]
    }
   ],
   "source": [
    "#polar plot by aspect\n",
    "#convert colors for plotly formatting\n",
    "pal = sns.color_palette(\"viridis\")\n",
    "clist = pal.as_hex()\n",
    "\n",
    "#hex to rgb testing\n",
    "import matplotlib.colors as colors\n",
    "\n",
    "def hex_to_rgb(clist):\n",
    "    #converting seaborne colors to hex value\n",
    "    rgb_list = []\n",
    "    new_list = []\n",
    "    #converting the list of hex values to rgb - this changes decimal to number\n",
    "    for h in clist:\n",
    "        rgb = colors.hex2color(h)\n",
    "        color = list([int(255*x) for x in rgb])\n",
    "    #this line is appending a transparency value\n",
    "        color.append(0.3)\n",
    "        tuplecolor = tuple(color)\n",
    "        rgb_list.append(tuplecolor)\n",
    "    \n",
    "    for x in rgb_list:\n",
    "        new_list.append(\"rgba\" + str(x))\n",
    "    return(new_list)\n",
    "\n",
    "color_error = hex_to_rgb(clist) #need to input a list of hex values here\n",
    "display(color_error)\n",
    "\n",
    "df = asp_append.reset_index()\n",
    "display(df)\n",
    "df = df[df[\"Asp\"]>0]\n",
    "\n",
    "\n",
    "title = \"SWE [mm]: {}, phase {}\".format(wshed,phase[2:])\n",
    "swe_max = round((df[\"swe_hm\"].max()+100),-2)\n",
    "print(swe_max)\n",
    "sns.set_style(\"darkgrid\")\n",
    "#set font\n",
    "font_dict = dict(family=\"Arial\", size = 26, color = \"black\")\n",
    "\n",
    "#set the layout parameters for figure\n",
    "layout = go.Layout(polar=dict(\n",
    "angularaxis = dict(thetaunit=\"degrees\",\n",
    "            dtick=45,\n",
    "             rotation=90,\n",
    "             direction='clockwise',\n",
    "             tickmode=\"array\",\n",
    "             tickvals=[0, 45, 90, 135, 180, 225, 270, 315],\n",
    "             ticktext=[\"N\", \"NE\", \"E\", \"SE\", \"S\", \"SW\", \"W\", \"NW\"])\n",
    "         ,radialaxis=dict(range=[1,swe_max]))\n",
    "     )\n",
    "\n",
    "fig = go.Figure(layout=layout)\n",
    "\n",
    "fig.update_layout(\n",
    "    title={\n",
    "        'text': title,\n",
    "        'y':0.9,\n",
    "        'x':0.5,\n",
    "        'xanchor': 'center',\n",
    "        'yanchor': 'top'})\n",
    "\n",
    "#set the layout parameters for figure\n",
    "layout = go.Layout(polar=dict(\n",
    "angularaxis = dict(thetaunit=\"degrees\",\n",
    "            dtick=45,\n",
    "             rotation=90,\n",
    "             direction='clockwise',\n",
    "             tickmode=\"array\",\n",
    "             tickvals=[0, 45, 90, 135, 180, 225, 270, 315],\n",
    "             ticktext=[\"N\", \"NE\", \"E\", \"SE\", \"S\", \"SW\", \"W\", \"NW\"])\n",
    "         ,radialaxis=dict(range=[1,swe_max]))\n",
    "     )\n",
    "\n",
    "fig = go.Figure(layout=layout)\n",
    "\n",
    "fig.update_layout(\n",
    "    title={\n",
    "        'text': title,\n",
    "        'y':0.9,\n",
    "        'x':0.5,\n",
    "        'xanchor': 'center',\n",
    "        'yanchor': 'top'})\n",
    "\n",
    "def add_trace(phase, index, name):\n",
    "    fig.add_trace(go.Scatterpolar(\n",
    "                     r = line['swe_hm'],\n",
    "                     theta = line['Asp'],\n",
    "                     mode = \"lines\",\n",
    "                    showlegend=False,\n",
    "                     line_color = \"rgba(44, 160, 44, 0)\"\n",
    "            ))\n",
    "    fig.add_trace(go.Scatterpolar(\n",
    "            r = line['swe_mm'],\n",
    "            theta = line['Asp'],\n",
    "            mode = 'lines',\n",
    "            fill=\"tonext\",\n",
    "            name=name,\n",
    "            line_color = clist[index]\n",
    "            ))\n",
    "                      \n",
    "    fig.add_trace(go.Scatterpolar(\n",
    "            r = line['swe_lm'],\n",
    "            theta = line['Asp'],\n",
    "            mode = 'none',\n",
    "            fill=\"tonext\",\n",
    "            showlegend=False,\n",
    "            fillcolor = color_error[index]\n",
    "            )\n",
    "                    )\n",
    "\n",
    "#WAnt to loop through the basins adn produce the line accordingly by calling function\n",
    "index = 0\n",
    "for i in df[\"Basin\"].unique():\n",
    "        print(i)\n",
    "        line = df[df[\"Basin\"]== i]\n",
    "        add_trace(line, index, i)\n",
    "        index = index + 2\n",
    "fig.show()"
   ]
  }
 ],
 "metadata": {
  "kernelspec": {
   "display_name": "Python 3 (ipykernel)",
   "language": "python",
   "name": "python3"
  },
  "language_info": {
   "codemirror_mode": {
    "name": "ipython",
    "version": 3
   },
   "file_extension": ".py",
   "mimetype": "text/x-python",
   "name": "python",
   "nbconvert_exporter": "python",
   "pygments_lexer": "ipython3",
   "version": "3.10.2"
  }
 },
 "nbformat": 4,
 "nbformat_minor": 5
}
